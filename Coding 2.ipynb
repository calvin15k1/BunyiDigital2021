{
 "cells": [
  {
   "cell_type": "code",
   "execution_count": 1,
   "metadata": {},
   "outputs": [
    {
     "name": "stdout",
     "output_type": "stream",
     "text": [
      "Requirement already satisfied: madmom in /home/adoremus78/anaconda3/lib/python3.8/site-packages (0.16.1)\n",
      "Requirement already satisfied: mido>=1.2.8 in /home/adoremus78/anaconda3/lib/python3.8/site-packages (from madmom) (1.2.10)\n",
      "Requirement already satisfied: scipy>=0.16 in /home/adoremus78/anaconda3/lib/python3.8/site-packages (from madmom) (1.5.2)\n",
      "Requirement already satisfied: numpy>=1.13.4 in /home/adoremus78/anaconda3/lib/python3.8/site-packages (from madmom) (1.19.2)\n",
      "Requirement already satisfied: cython>=0.25 in /home/adoremus78/anaconda3/lib/python3.8/site-packages (from madmom) (0.29.21)\n"
     ]
    }
   ],
   "source": [
    "import sys\n",
    "!{sys.executable} -m pip install madmom"
   ]
  },
  {
   "cell_type": "code",
   "execution_count": 2,
   "metadata": {},
   "outputs": [
    {
     "name": "stdout",
     "output_type": "stream",
     "text": [
      "Requirement already satisfied: modules in /home/adoremus78/anaconda3/lib/python3.8/site-packages (1.0.0)\r\n"
     ]
    }
   ],
   "source": [
    "import sys\n",
    "!{sys.executable} -m pip install modules"
   ]
  },
  {
   "cell_type": "code",
   "execution_count": 3,
   "metadata": {},
   "outputs": [],
   "source": [
    "import modules\n",
    "import madmom \n",
    "import librosa"
   ]
  },
  {
   "cell_type": "code",
   "execution_count": null,
   "metadata": {},
   "outputs": [],
   "source": [
    "proc = madmom.features.beats.DBNBeatTrackingProcessor(fps=145)\n",
    "act = madmom.features.beats.RNNBeatProcessor()('sample1.wav')"
   ]
  },
  {
   "cell_type": "code",
   "execution_count": null,
   "metadata": {},
   "outputs": [],
   "source": [
    "beat_times = proc(act)"
   ]
  },
  {
   "cell_type": "code",
   "execution_count": null,
   "metadata": {},
   "outputs": [],
   "source": [
    "clicks = librosa.clicks(beat_times, sr=sr, length=len(x))\n",
    "ipd.Audio(x + clicks, rate=sr)"
   ]
  },
  {
   "cell_type": "code",
   "execution_count": null,
   "metadata": {},
   "outputs": [],
   "source": []
  }
 ],
 "metadata": {
  "kernelspec": {
   "display_name": "Python 3",
   "language": "python",
   "name": "python3"
  },
  "language_info": {
   "codemirror_mode": {
    "name": "ipython",
    "version": 3
   },
   "file_extension": ".py",
   "mimetype": "text/x-python",
   "name": "python",
   "nbconvert_exporter": "python",
   "pygments_lexer": "ipython3",
   "version": "3.8.5"
  }
 },
 "nbformat": 4,
 "nbformat_minor": 4
}
